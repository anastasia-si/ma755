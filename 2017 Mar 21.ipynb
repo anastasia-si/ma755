{
 "cells": [
  {
   "cell_type": "markdown",
   "metadata": {},
   "source": [
    "### MA755 Machine Learning - Classification - 21 Mar 2017 \n",
    "\n",
    "These notes are based on, and include images from, [_Hands-On Machine Learning with Scikit-Learn and TensorFlow_](http://shop.oreilly.com/product/0636920052289.do)\n",
    "- by Aurélien Géron\n",
    "- Published by O'Reilly Media, Inc., 2017"
   ]
  },
  {
   "cell_type": "markdown",
   "metadata": {},
   "source": [
    "### Matrix multiplication\n",
    "\n",
    "Linear algebra and, in particular, matrix multiplcation are essential to many machine learning techniques. \n",
    "\n",
    "To that end the following provides a couple examples of matrix multiplication:\n",
    "- https://www.mathsisfun.com/algebra/matrix-multiplying.html\n",
    "\n",
    "Matrix multiplication is also referred to as the _dot product_"
   ]
  },
  {
   "cell_type": "markdown",
   "metadata": {},
   "source": [
    "### Install and load packages"
   ]
  },
  {
   "cell_type": "code",
   "execution_count": 1,
   "metadata": {
    "collapsed": true
   },
   "outputs": [
    {
     "name": "stdout",
     "output_type": "stream",
     "text": [
      "Fetching package metadata ...........\n",
      "Solving package specifications: ..........\n",
      "\n",
      "Package plan for installation in environment /opt/conda:\n",
      "\n",
      "The following packages will be downloaded:\n",
      "\n",
      "    package                    |            build\n",
      "    ---------------------------|-----------------\n",
      "    expat-2.1.0                |                0         365 KB\n",
      "    libtool-2.4.2              |                0         547 KB\n",
      "    graphviz-2.38.0            |                4        12.0 MB\n",
      "    ------------------------------------------------------------\n",
      "                                           Total:        12.9 MB\n",
      "\n",
      "The following NEW packages will be INSTALLED:\n",
      "\n",
      "    expat:    2.1.0-0 \n",
      "    graphviz: 2.38.0-4\n",
      "    libtool:  2.4.2-0 \n",
      "\n",
      "Fetching packages ...\n",
      "expat-2.1.0-0. 100% |################################| Time: 0:00:00   5.44 MB/s\n",
      "libtool-2.4.2- 100% |################################| Time: 0:00:00   8.65 MB/s\n",
      "graphviz-2.38. 100% |################################| Time: 0:00:00  17.81 MB/s\n",
      "Extracting packages ...\n",
      "[      COMPLETE      ]|###################################################| 100%\n",
      "Linking packages ...\n",
      "[      COMPLETE      ]|###################################################| 100%\n",
      "Fetching package metadata ...........\n",
      "Solving package specifications: ..........\n",
      "\n",
      "Package plan for installation in environment /opt/conda:\n",
      "\n",
      "The following packages will be downloaded:\n",
      "\n",
      "    package                    |            build\n",
      "    ---------------------------|-----------------\n",
      "    pydotplus-2.0.2            |           py35_0          39 KB  conda-forge\n",
      "\n",
      "The following NEW packages will be INSTALLED:\n",
      "\n",
      "    pydotplus: 2.0.2-py35_0 conda-forge\n",
      "\n",
      "Fetching packages ...\n",
      "pydotplus-2.0. 100% |################################| Time: 0:00:00 477.36 kB/s\n",
      "Extracting packages ...\n",
      "[      COMPLETE      ]|###################################################| 100%\n",
      "Linking packages ...\n",
      "[      COMPLETE      ]|###################################################| 100%\n",
      "Fetching package metadata ...........\n",
      "Solving package specifications: ..........\n",
      "\n",
      "Package plan for installation in environment /opt/conda:\n",
      "\n",
      "The following packages will be downloaded:\n",
      "\n",
      "    package                    |            build\n",
      "    ---------------------------|-----------------\n",
      "    ipython-5.3.0              |           py35_0        1021 KB\n",
      "\n",
      "The following packages will be UPDATED:\n",
      "\n",
      "    ipython: 5.1.0-py35_1 conda-forge --> 5.3.0-py35_0\n",
      "\n",
      "Fetching packages ...\n",
      "ipython-5.3.0- 100% |################################| Time: 0:00:00   5.98 MB/s\n",
      "Extracting packages ...\n",
      "[      COMPLETE      ]|###################################################| 100%\n",
      "Unlinking packages ...\n",
      "[      COMPLETE      ]|###################################################| 100%\n",
      "Linking packages ...\n",
      "[      COMPLETE      ]|###################################################| 100%\n"
     ]
    }
   ],
   "source": [
    "!conda install graphviz  -y\n",
    "!conda install pydotplus -y\n",
    "!conda install IPython   -y"
   ]
  },
  {
   "cell_type": "markdown",
   "metadata": {},
   "source": [
    "### Load libraries"
   ]
  },
  {
   "cell_type": "code",
   "execution_count": 2,
   "metadata": {
    "collapsed": false
   },
   "outputs": [
    {
     "name": "stderr",
     "output_type": "stream",
     "text": [
      "/opt/conda/lib/python3.5/site-packages/matplotlib/font_manager.py:273: UserWarning: Matplotlib is building the font cache using fc-list. This may take a moment.\n",
      "  warnings.warn('Matplotlib is building the font cache using fc-list. This may take a moment.')\n",
      "/opt/conda/lib/python3.5/site-packages/matplotlib/font_manager.py:273: UserWarning: Matplotlib is building the font cache using fc-list. This may take a moment.\n",
      "  warnings.warn('Matplotlib is building the font cache using fc-list. This may take a moment.')\n"
     ]
    }
   ],
   "source": [
    "import numpy             as np\n",
    "import pandas            as pd\n",
    "\n",
    "%matplotlib inline\n",
    "import matplotlib        as mpl\n",
    "import matplotlib.pyplot as plt\n",
    "import pydotplus         as pdp\n",
    "import seaborn           as sea\n",
    "\n",
    "import sklearn.metrics         as sk_me\n",
    "import sklearn.model_selection as sk_ms\n",
    "import sklearn.linear_model    as sk_lm\n",
    "import sklearn.preprocessing   as sk_pp\n",
    "import sklearn.multiclass      as sk_mc\n",
    "import sklearn.datasets        as sk_ds\n",
    "import sklearn.tree            as sk_dt\n",
    "import sklearn.pipeline        as sk_pl\n",
    "import sklearn.svm             as sk_sv\n",
    "import sklearn.neighbors       as sk_nb\n",
    "\n",
    "import scipy.stats             as sp_st\n",
    "import IPython.display         as ip_d\n",
    "import pickle                  as pickle"
   ]
  },
  {
   "cell_type": "markdown",
   "metadata": {},
   "source": [
    "The following imports are not used. (So I should delete them, right?)"
   ]
  },
  {
   "cell_type": "markdown",
   "metadata": {
    "collapsed": false
   },
   "source": [
    "from sklearn.datasets.mldata import fetch_mldata\n",
    "from sklearn.model_selection import train_test_split\n",
    "from sklearn.model_selection import cross_val_score\n",
    "from sklearn.model_selection import cross_val_predict\n",
    "from sklearn.linear_model    import SGDClassifier\n",
    "from sklearn.linear_model    import LogisticRegression\n",
    "from sklearn.preprocessing   import LabelBinarizer\n",
    "from sklearn.preprocessing   import StandardScaler\n",
    "from sklearn.multiclass      import OneVsRestClassifier\n",
    "from sklearn.multiclass      import OneVsOneClassifier\n",
    "from scipy.stats             import describe\n",
    "from sklearn.calibration     import CalibratedClassifierCV"
   ]
  },
  {
   "cell_type": "markdown",
   "metadata": {},
   "source": [
    "### Regularization \n",
    "\n",
    "Models (of different types) can (in different ways) overfit the dataset. \n",
    "\n",
    "Regularization is a collection of techniques to mitigate the risk that models have of overfitting the dataset.\n",
    "\n",
    "For any given model there are a collection of parameters that control regularization. I'll present them below.\n",
    "\n",
    "[CrossValidated: Regularization in plain English](http://stats.stackexchange.com/questions/4961/what-is-regularization-in-plain-english)"
   ]
  },
  {
   "cell_type": "markdown",
   "metadata": {},
   "source": [
    "### Models\n",
    "\n",
    "- Logistic regression\n",
    "- Decision tree\n",
    "- Support vector machine"
   ]
  },
  {
   "cell_type": "markdown",
   "metadata": {},
   "source": [
    "For several examples the iris dataset is used: "
   ]
  },
  {
   "cell_type": "code",
   "execution_count": 4,
   "metadata": {
    "collapsed": false
   },
   "outputs": [
    {
     "data": {
      "text/plain": [
       "((150, 4), (150,))"
      ]
     },
     "execution_count": 4,
     "metadata": {},
     "output_type": "execute_result"
    }
   ],
   "source": [
    "iris = sk_ds.load_iris()\n",
    "(iris.data.shape, \n",
    " iris.target.shape\n",
    ")"
   ]
  },
  {
   "cell_type": "markdown",
   "metadata": {},
   "source": [
    "Create train and test datasets. \n",
    "\n",
    "The 50/50 split is only for my example below. Use `test_size=0.2` for your split."
   ]
  },
  {
   "cell_type": "code",
   "execution_count": 5,
   "metadata": {
    "collapsed": false
   },
   "outputs": [
    {
     "data": {
      "text/plain": [
       "((75, 4), (75,), (75, 4), (75,))"
      ]
     },
     "execution_count": 5,
     "metadata": {},
     "output_type": "execute_result"
    }
   ],
   "source": [
    "(iris_train_data,   iris_test_data,\n",
    " iris_train_target, iris_test_target\n",
    " ) = sk_ms.train_test_split(iris.data, \n",
    "                            iris.target, \n",
    "                            test_size=0.5, \n",
    "                            random_state=42)\n",
    "(iris_train_data.shape, iris_train_target.shape, \n",
    " iris_test_data.shape,  iris_test_target.shape\n",
    ")"
   ]
  },
  {
   "cell_type": "markdown",
   "metadata": {},
   "source": [
    "### Logistic regression\n",
    "\n",
    "A logistic regression model (of a dataset) is a vector $\\theta$ of coefficients. \n",
    "\n",
    "Let \n",
    "\n",
    "- $m$ denotes the number of rows of the dataset\n",
    "- $x$ denotes a vector of values for the independent variable (for a row)\n",
    "- $y$ denotes a value for the binary dependent variable (for a row)\n",
    "- $x^{(i)}$ denotes the vector of values for independent variables for row $i$\n",
    "- $y^{(i)}$ denotes the values of the dependent variable value for row $i$\n",
    "\n",
    "The dot product $\\theta\\cdot x$ is the sum of the pairwise products of elements of $x$ and of $\\theta$. For instance: $$(1,2,3) \\cdot (4,5,6) = 1*4 + 2*5 + 3*6 = 32\n",
    "$$ \n",
    "\n",
    "The _logistic_ is a sigmoid (\"S\"-shaped) function:\n",
    "$$\\sigma(t) = \\frac{1}{1 + e^{(-t)}}\n",
    "$$\n",
    "\n",
    "If $x = (x_0, x_1, x_2)$ and $\\theta = (\\theta_0, \\theta_1, \\theta_2)$ then \n",
    "the probability estimate $\\hat{p}$ for $x$ is: \n",
    "\\begin{align}\n",
    "\\hat{p} & = \\sigma\\left( \\theta \\cdot x \\right)\n",
    "\\\\      & = \\sigma\\left( \\left(x_0, x_1, x_2\\right) \\cdot \\left(\\theta_0, \\theta_1, \\theta_2\\right) \\right)\n",
    "\\\\      & = \\sigma\\left(x_0*\\theta_0 + x_1*\\theta_1 + x_2*\\theta_2\\right)\n",
    "\\end{align} \n",
    "\n",
    "\n",
    "\n",
    "The prediction for $x$ is:\n",
    "\\begin{align}\n",
    "\\hat{y} & = \\operatorname{round}\\left( \\hat{p} \\right) \n",
    "\\\\      & = \\operatorname{round}\\left(\\sigma \\left( \\theta \\cdot x \\right) \\right)\n",
    "\\end{align}"
   ]
  },
  {
   "cell_type": "markdown",
   "metadata": {},
   "source": [
    "### Logistic regression - cost function\n",
    "\n",
    "The cost of a prediction made for an $x$ is\n",
    "$$c(\\theta, x) = \n",
    "\\begin{cases}\n",
    "   - \\log(\\hat{p})     & \\text{if } y = 1\n",
    "\\\\ - \\log(1 - \\hat{p}) & \\text{if } y = 0\n",
    "\\end{cases}$$\n",
    "\n",
    "The cost function over the entire training set (all $m$ cases) is\n",
    "$$J(\\theta) = - \\frac{1}{m} \\sum_{i=1}^{m} \\left[ \n",
    "    y^{(i)} \\log(\\hat{p}^{(i)}) + (1-y^{(i)}) \\log(1 - \\hat{p}^{(i)}) \n",
    "\\right]\n",
    "$$\n",
    "Values for $\\theta$ are chosen so that this cost function is minimized. "
   ]
  },
  {
   "cell_type": "markdown",
   "metadata": {},
   "source": [
    "### Logistic regression - regularization\n",
    "\n",
    "There are three types of regularization that can be used with Logistic regression: \n",
    "\n",
    "- __Lasso__/__L1__: to the cost function add $\\alpha\\sum_{i=1}^{n} |\\theta_i|$ \n",
    "- __Ridge__/__L2__: to the cost function add $\\alpha\\sum_{i=1}^{n} (\\theta_i)^2$ \n",
    "- __Elasticnet__: to the cost function add $r\\alpha\\sum_{i=1}^{n} |\\theta_i| + \\frac{1-r}{2}\\alpha\\sum_{i=1}^{n} (\\theta_i)^2$ "
   ]
  },
  {
   "cell_type": "markdown",
   "metadata": {},
   "source": [
    "Notes about choosing one or the other:\n",
    "\n",
    "- if you suspect that only few features are actually useful, you should prefer Lasso or Elastic Net since they tend to reduce the useless features’ weights down to zero as we discussed above. \n",
    "- In general, Elastic Net is preferred over Lasso since Lasso may behave erratically when the number of features is greater than the number of training instances or when several features are strongly correlated."
   ]
  },
  {
   "cell_type": "markdown",
   "metadata": {},
   "source": [
    "The `sklearn` library has two implementations of logistic regression: `SGDClassifier` and `LogisticRegression`. \n",
    "Their regularization parameters are described below.\n",
    "\n",
    "[`SGDClassifier`](http://scikit-learn.org/stable/modules/generated/sklearn.linear_model.SGDClassifier.html)\n",
    "\n",
    "- `alpha` (`float`, $\\alpha$ in the formulas above):\n",
    "A constant that multiplies the regularization term. Defaults to `0.0001`. \n",
    "- `l1_ratio` (`float`, $r$ in the formuas above): \n",
    "The Elastic Net mixing parameter, with `0 <= l1_ratio <= 1`. When `l1_ratio=0` this corresponds to the __L2__ penalty. When `l1_ratio=1` this corresponds to __L1__. Defaults to `0.15`.\n",
    "\n",
    "[`LogisticRegression`](http://scikit-learn.org/stable/modules/generated/sklearn.linear_model.LogisticRegression.html)\n",
    "\n",
    "- `penalty`: A string/`str` equal to either `'l1'` or `'l2'`. Defaults to `'l2'`.\n",
    "Used to specify the norm used in the penalization. The ‘newton-cg’, ‘sag’ and ‘lbfgs’ solvers support only __L2__ penalties."
   ]
  },
  {
   "cell_type": "markdown",
   "metadata": {},
   "source": [
    "See also:\n",
    "\n",
    "- [CrossValidated: Regularization methods for logistic regression](http://stats.stackexchange.com/questions/228763/regularization-methods-for-logistic-regression)\n",
    "- [Quora: Difference between L1 and L2 regularization](https://www.quora.com/What-is-the-difference-between-L1-and-L2-regularization) \n"
   ]
  },
  {
   "cell_type": "markdown",
   "metadata": {},
   "source": [
    "### Logistic regression - example"
   ]
  },
  {
   "cell_type": "code",
   "execution_count": 7,
   "metadata": {
    "collapsed": false
   },
   "outputs": [
    {
     "data": {
      "text/plain": [
       "LogisticRegression(C=1.0, class_weight=None, dual=False, fit_intercept=True,\n",
       "          intercept_scaling=1, max_iter=100, multi_class='ovr', n_jobs=1,\n",
       "          penalty='l2', random_state=None, solver='liblinear', tol=0.0001,\n",
       "          verbose=0, warm_start=False)"
      ]
     },
     "execution_count": 7,
     "metadata": {},
     "output_type": "execute_result"
    }
   ],
   "source": [
    "log_reg = sk_lm.LogisticRegression()\n",
    "log_reg.fit(iris_train_data, \n",
    "            iris_train_target)"
   ]
  },
  {
   "cell_type": "markdown",
   "metadata": {},
   "source": [
    "### Decision tree \n",
    "\n",
    "- The `sklearn` library uses the CART (Classification and Regression Trees) algorithm\n",
    "- See [sklearn.tree.DecisionTreeClassifier](http://scikit-learn.org/stable/modules/generated/sklearn.tree.DecisionTreeClassifier.html)\n",
    "- See http://scikit-learn.org/stable/modules/tree.html\n",
    "- See [Scikit-learn Decision Tree Learning I](http://www.bogotobogo.com/python/scikit-learn/scikt_machine_learning_Decision_Tree_Learning_Informatioin_Gain_IG_Impurity_Entropy_Gini_Classification_Error.php)\n",
    "- See [Scikit-learn Decision Tree Learning II](http://www.bogotobogo.com/python/scikit-learn/scikit_machine_learning_Constructing_Decision_Tree_Learning_Information_Gain_IG_Impurity_Entropy_Gini_Classification_Error.php)\n",
    "\n",
    "In the next section \"__Decision tree - example using the iris dataset__\" code is presented which:\n",
    "\n",
    "1. creates a decision tree classifier\n",
    "1. fits the classifier to the train dataset\n",
    "1. displays the decision tree model\n",
    "\n",
    "The following section \"__Decision tree - model and algorithm details__\" then provides details of the model. \n",
    "\n",
    "The section following that \"__Decision tree - regularization__\" describes the effects of hyperparameters on the model. "
   ]
  },
  {
   "cell_type": "markdown",
   "metadata": {},
   "source": [
    "### Decision tree - example using the iris dataset"
   ]
  },
  {
   "cell_type": "markdown",
   "metadata": {},
   "source": [
    "Create a decision tree classifier:"
   ]
  },
  {
   "cell_type": "code",
   "execution_count": 8,
   "metadata": {
    "collapsed": false
   },
   "outputs": [
    {
     "data": {
      "text/plain": [
       "DecisionTreeClassifier(class_weight=None, criterion='gini', max_depth=None,\n",
       "            max_features=None, max_leaf_nodes=None,\n",
       "            min_impurity_split=1e-07, min_samples_leaf=1,\n",
       "            min_samples_split=2, min_weight_fraction_leaf=0.0,\n",
       "            presort=False, random_state=None, splitter='best')"
      ]
     },
     "execution_count": 8,
     "metadata": {},
     "output_type": "execute_result"
    }
   ],
   "source": [
    "dt_clf  = sk_dt.DecisionTreeClassifier()\n",
    "dt_clf"
   ]
  },
  {
   "cell_type": "markdown",
   "metadata": {},
   "source": [
    "Fit the classifier to the training data:"
   ]
  },
  {
   "cell_type": "code",
   "execution_count": 9,
   "metadata": {
    "collapsed": false
   },
   "outputs": [
    {
     "data": {
      "text/plain": [
       "DecisionTreeClassifier(class_weight=None, criterion='gini', max_depth=None,\n",
       "            max_features=None, max_leaf_nodes=None,\n",
       "            min_impurity_split=1e-07, min_samples_leaf=1,\n",
       "            min_samples_split=2, min_weight_fraction_leaf=0.0,\n",
       "            presort=False, random_state=None, splitter='best')"
      ]
     },
     "execution_count": 9,
     "metadata": {},
     "output_type": "execute_result"
    }
   ],
   "source": [
    "dt_clf.fit(iris_train_data, \n",
    "           iris_train_target)\n",
    "dt_clf"
   ]
  },
  {
   "cell_type": "markdown",
   "metadata": {},
   "source": [
    "Create an image of the fit classifier:"
   ]
  },
  {
   "cell_type": "code",
   "execution_count": 12,
   "metadata": {
    "collapsed": false
   },
   "outputs": [
    {
     "data": {
      "image/png": "[encoded data removed]",
      "text/plain": [
       "<IPython.core.display.Image object>"
      ]
     },
     "execution_count": 12,
     "metadata": {},
     "output_type": "execute_result"
    }
   ],
   "source": [
    "graph = sk_dt.export_graphviz(dt_clf, \n",
    "                              out_file=None, \n",
    "                              feature_names=iris.feature_names,  \n",
    "                              class_names=iris.target_names,  \n",
    "                              filled=True, \n",
    "                              rounded=True,  \n",
    "                              special_characters=True)\n",
    "                               \n",
    "ip_d.Image(pdp.graph_from_dot_data(graph\n",
    "                                  ).create_png()\n",
    "          ) "
   ]
  },
  {
   "cell_type": "markdown",
   "metadata": {},
   "source": [
    "Refer to this image as we discuss the model and algorithm below."
   ]
  },
  {
   "cell_type": "markdown",
   "metadata": {},
   "source": [
    "### Decision tree - background\n",
    "\n",
    "Decision tree classifiers require a categorical target variable, which we assume is binary in the descriptions below, but this is not a requirement.\n",
    "\n",
    "The decision tree model relies on measurements of the __impurity__ of a (subset of a) dataset.\n",
    "A subset is:\n",
    "\n",
    "- __most pure__ if all records in the subset contain the same value for the target variable\n",
    "- __least pure__ if there are an equal number of rows with either value of the target variable\n",
    "\n",
    "Three measures of impurity are described below: Gini index, entropy and classification error."
   ]
  },
  {
   "cell_type": "markdown",
   "metadata": {},
   "source": [
    "The __Gini index__ of node $i$ is:\n",
    "$$ G_{i} = 1 - \\sum^{n}_{k=1} (p_{i,k})^{2}\n",
    "$$\n",
    "where \n",
    "\n",
    "- $n$ is the number of classes\n",
    "- $p_{i,k}$ is the proportion of rows in node $i$ of class $k$\n",
    "\n",
    "The result of $G_{i}$ is:\n",
    "\n",
    "- $0$ if the node contains only a single class - most pure\n",
    "- $1/2$ if the node contains an equal number of rows in each of two classes - least pure\n",
    "- $2/3$ if the node contains an equal number of rows in each of three classes - least pure\n",
    "\n",
    "\n",
    "Use `DecisionTreeClassifier(criterion = \"gini\")`"
   ]
  },
  {
   "cell_type": "markdown",
   "metadata": {},
   "source": [
    "The __entropy__ of node $i$ is:\n",
    "$$ H_{i} = - \\sum^{n}_{k=1} p_{i,k} \\log(p_{i,k})\n",
    "$$\n",
    "where \n",
    "\n",
    "- the $\\log$ function is base 2\n",
    "- $n$ is the number of classes\n",
    "- $p_{i,k}$ is the proportion of rows in node $i$ of class $k$\n",
    "- the summation does not contain terms where $p_{i,k}$ is zero\n",
    "\n",
    "The result of $H_i$ is:\n",
    "\n",
    "- `0` if the node contains only rows of a single class - most pure\n",
    "- `1` if the node contains an equal number of rows in each of two classes - least pure\n",
    "\n",
    "Use `DecisionTreeClassifier(criterion = \"entropy\")`"
   ]
  },
  {
   "cell_type": "markdown",
   "metadata": {},
   "source": [
    "The __classification error__ of node $i$ is:\n",
    "$$ C_i = 1 - \\max_{k=1}^{n}(p_{i,k})\n",
    "$$\n",
    "where \n",
    "\n",
    "- $n$ is the number of classes\n",
    "- $p_{i,k}$ is the proportion of rows in node $i$ of class $k$\n",
    "\n",
    "The result of $C_i$ is:\n",
    "\n",
    "- `0` if the node contains only rows of a single class - most pure\n",
    "- `1/2` if the node contains an equal number of rows in each class - least pure\n",
    "\n",
    "Classification error is not available from `DecisionTreeClassifier`."
   ]
  },
  {
   "cell_type": "markdown",
   "metadata": {},
   "source": [
    "A __split__ of a dataset is (typically) a numeric variable $k$ and a threshold $t_k$ for that variable. \n",
    "The split divides the dataset into two samples:\n",
    "\n",
    "1. The first/left dataset consists of all rows where $k < t_k$\n",
    "1. The second/right dataset consists of all rows where $k \\ge t_k$\n",
    "\n",
    "The impurity (of the two datasets) of a split $(k, t_k)$ is:\n",
    "$$ I(k, t_k) = \\frac{m_{left}}{m} I_{left} + \\frac{m_{right}}{m} I_{right}\n",
    "$$\n",
    "where: \n",
    "\n",
    "- $I$ is one of the three impurity measures\n",
    "- $m$ is the number of rows in the dataset\n",
    "- $m_{left}$ and $m_{right}$ are the number of rows in the left and right datasets\n",
    "- $I_{left}$ and $I_{right}$ are the impurity measures of the left and right datasets\n",
    "\n",
    "The impurity of a split is the weighted average of the impurities $I_{left}$ and $I_{right}$ of the two datasets.\n",
    "\n",
    "Recall that these impurity measures are:\n",
    "\n",
    "- highest when the dataset contains the same number of cases for each value of the target variable - least pure\n",
    "- lowest when the dataset contains only a single value of the target variable - most pure\n",
    "\n",
    "The goal of a split is to minimize the impurity (which means maximize the purity) of the split. "
   ]
  },
  {
   "cell_type": "markdown",
   "metadata": {},
   "source": [
    "### Decision tree - algorithm\n",
    "\n",
    "1. Let $S$ contain the entire dataset and create a node for $S$ (this is the root node)\n",
    "1. Find the impurity $I(S)$ of $S$ and if $I(S) = 0$ then stop \n",
    "1. Find the impurity $I(k,t_k)$ of the best split $(k,t_k)$\n",
    "1. Let $S_{left}$ contain all rows from $S$ where $k < t_k$ \n",
    "    - create a node for $S_{left}$\n",
    "    - draw a line from $S$ to $S_{left}$ and label it $k < t_k$ \n",
    "    - Set $S=S_{left}$ and go to step 2 \n",
    "1. Let $S_{right}$ contain all rows from $S$ where $k \\ge t_k$ \n",
    "    - create a node for $S_{right}$\n",
    "    - draw a line from $S$ to $S_{right}$ and label it $k \\ge t_k$ \n",
    "    - Set $S=S_{right}$ and go to step 2 \n",
    "\n",
    "__Predictions are based on the largest class at a _leaf_ node for records that satisfy the split inequalities that lead to that node.__ "
   ]
  },
  {
   "cell_type": "markdown",
   "metadata": {},
   "source": [
    "### Decision tree - regularization\n",
    "\n",
    "The leaf nodes created by the above algorithm are always pure, but in most cases this results in overfitting the model to the training dataset.\n",
    "\n",
    "__Regularization__ is the process of introducing constraints that prevent the model from overfitting the training dataset. \n",
    "\n",
    "See <https://en.wikipedia.org/wiki/Regularization_(mathematics)>.\n",
    "\n",
    "The following hyperparameters provide regularization contraints: \n",
    "\n",
    "- `max_features`: the maximum number of features to consider for each split\n",
    "- `max_depth`: the maximum depth of the tree\n",
    "- `min_samples_split`: the minimum number of samples that must be present in a node to split the node\n",
    "- `min_samples_leaf`: the minimum number of samples that must be present in each leaf to split a node\n",
    "- `min_impurity_split`: the minimum reduction in impurity, between a (parent) node and the weighted average of its left and right (child) nodes, required to create the child nodes"
   ]
  },
  {
   "cell_type": "markdown",
   "metadata": {},
   "source": [
    "Notice that even though the model fits the training set perfectly there it still produces errors (incorrect predictions) on the testing dataset. \n",
    "\n",
    "Create predictions for the training and the testing datasets (based on the model fitted to the training dataset.)"
   ]
  },
  {
   "cell_type": "code",
   "execution_count": 10,
   "metadata": {
    "collapsed": false
   },
   "outputs": [
    {
     "data": {
      "text/plain": [
       "DecisionTreeClassifier(class_weight=None, criterion='gini', max_depth=None,\n",
       "            max_features=None, max_leaf_nodes=None,\n",
       "            min_impurity_split=1e-07, min_samples_leaf=1,\n",
       "            min_samples_split=2, min_weight_fraction_leaf=0.0,\n",
       "            presort=False, random_state=None, splitter='best')"
      ]
     },
     "execution_count": 10,
     "metadata": {},
     "output_type": "execute_result"
    }
   ],
   "source": [
    "dt_clf  = sk_dt.DecisionTreeClassifier()\n",
    "dt_clf"
   ]
  },
  {
   "cell_type": "code",
   "execution_count": 14,
   "metadata": {
    "collapsed": false
   },
   "outputs": [],
   "source": [
    "iris_train_predict = dt_clf.fit(iris_train_data,\n",
    "                                iris_train_target\n",
    "                               ).predict(iris_train_data\n",
    "                                        )\n",
    "iris_test_predict = dt_clf.fit(iris_train_data, \n",
    "                               iris_train_target\n",
    "                              ).predict(iris_test_data\n",
    "                                       )"
   ]
  },
  {
   "cell_type": "markdown",
   "metadata": {},
   "source": [
    "A confusion matrix is produced for each. This is a simple example of overfitting the dataset."
   ]
  },
  {
   "cell_type": "code",
   "execution_count": 15,
   "metadata": {
    "collapsed": false
   },
   "outputs": [
    {
     "data": {
      "text/html": [
       "<div>\n",
       "<table border=\"1\" class=\"dataframe\">\n",
       "  <thead>\n",
       "    <tr style=\"text-align: right;\">\n",
       "      <th></th>\n",
       "      <th>0</th>\n",
       "      <th>1</th>\n",
       "      <th>2</th>\n",
       "    </tr>\n",
       "  </thead>\n",
       "  <tbody>\n",
       "    <tr>\n",
       "      <th>0</th>\n",
       "      <td>21</td>\n",
       "      <td>0</td>\n",
       "      <td>0</td>\n",
       "    </tr>\n",
       "    <tr>\n",
       "      <th>1</th>\n",
       "      <td>0</td>\n",
       "      <td>27</td>\n",
       "      <td>0</td>\n",
       "    </tr>\n",
       "    <tr>\n",
       "      <th>2</th>\n",
       "      <td>0</td>\n",
       "      <td>0</td>\n",
       "      <td>27</td>\n",
       "    </tr>\n",
       "  </tbody>\n",
       "</table>\n",
       "</div>"
      ],
      "text/plain": [
       "    0   1   2\n",
       "0  21   0   0\n",
       "1   0  27   0\n",
       "2   0   0  27"
      ]
     },
     "execution_count": 15,
     "metadata": {},
     "output_type": "execute_result"
    }
   ],
   "source": [
    "pd.DataFrame(sk_me.confusion_matrix(iris_train_target, \n",
    "                                    iris_train_predict\n",
    "                                   )\n",
    "            )"
   ]
  },
  {
   "cell_type": "markdown",
   "metadata": {},
   "source": [
    "Notice the errors on the test dataset. "
   ]
  },
  {
   "cell_type": "code",
   "execution_count": 16,
   "metadata": {
    "collapsed": false
   },
   "outputs": [
    {
     "data": {
      "text/html": [
       "<div>\n",
       "<table border=\"1\" class=\"dataframe\">\n",
       "  <thead>\n",
       "    <tr style=\"text-align: right;\">\n",
       "      <th></th>\n",
       "      <th>0</th>\n",
       "      <th>1</th>\n",
       "      <th>2</th>\n",
       "    </tr>\n",
       "  </thead>\n",
       "  <tbody>\n",
       "    <tr>\n",
       "      <th>0</th>\n",
       "      <td>29</td>\n",
       "      <td>0</td>\n",
       "      <td>0</td>\n",
       "    </tr>\n",
       "    <tr>\n",
       "      <th>1</th>\n",
       "      <td>0</td>\n",
       "      <td>23</td>\n",
       "      <td>0</td>\n",
       "    </tr>\n",
       "    <tr>\n",
       "      <th>2</th>\n",
       "      <td>0</td>\n",
       "      <td>3</td>\n",
       "      <td>20</td>\n",
       "    </tr>\n",
       "  </tbody>\n",
       "</table>\n",
       "</div>"
      ],
      "text/plain": [
       "    0   1   2\n",
       "0  29   0   0\n",
       "1   0  23   0\n",
       "2   0   3  20"
      ]
     },
     "execution_count": 16,
     "metadata": {},
     "output_type": "execute_result"
    }
   ],
   "source": [
    "pd.DataFrame(sk_me.confusion_matrix(iris_test_target, \n",
    "                                    iris_test_predict\n",
    "                                   )\n",
    "            )"
   ]
  },
  {
   "cell_type": "markdown",
   "metadata": {},
   "source": [
    "Now create a decision tree model with leaf nodes that contain at least 5 rows. This is a simple example of regularization (working.)"
   ]
  },
  {
   "cell_type": "code",
   "execution_count": 17,
   "metadata": {
    "collapsed": true
   },
   "outputs": [],
   "source": [
    "dt_clf  = sk_dt.DecisionTreeClassifier(min_samples_leaf=5)"
   ]
  },
  {
   "cell_type": "markdown",
   "metadata": {},
   "source": [
    "Create the predictions:"
   ]
  },
  {
   "cell_type": "code",
   "execution_count": 18,
   "metadata": {
    "collapsed": false
   },
   "outputs": [],
   "source": [
    "iris_train_predict = dt_clf.fit(iris_train_data,\n",
    "                                iris_train_target\n",
    "                               ).predict(iris_train_data\n",
    "                                        )\n",
    "iris_test_predict = dt_clf.fit(iris_train_data, \n",
    "                               iris_train_target\n",
    "                              ).predict(iris_test_data\n",
    "                                       )"
   ]
  },
  {
   "cell_type": "markdown",
   "metadata": {},
   "source": [
    "Produce a confusing matrix for predictions on the training dataset:"
   ]
  },
  {
   "cell_type": "code",
   "execution_count": 19,
   "metadata": {
    "collapsed": false
   },
   "outputs": [
    {
     "data": {
      "text/html": [
       "<div>\n",
       "<table border=\"1\" class=\"dataframe\">\n",
       "  <thead>\n",
       "    <tr style=\"text-align: right;\">\n",
       "      <th></th>\n",
       "      <th>0</th>\n",
       "      <th>1</th>\n",
       "      <th>2</th>\n",
       "    </tr>\n",
       "  </thead>\n",
       "  <tbody>\n",
       "    <tr>\n",
       "      <th>0</th>\n",
       "      <td>21</td>\n",
       "      <td>0</td>\n",
       "      <td>0</td>\n",
       "    </tr>\n",
       "    <tr>\n",
       "      <th>1</th>\n",
       "      <td>0</td>\n",
       "      <td>24</td>\n",
       "      <td>3</td>\n",
       "    </tr>\n",
       "    <tr>\n",
       "      <th>2</th>\n",
       "      <td>0</td>\n",
       "      <td>1</td>\n",
       "      <td>26</td>\n",
       "    </tr>\n",
       "  </tbody>\n",
       "</table>\n",
       "</div>"
      ],
      "text/plain": [
       "    0   1   2\n",
       "0  21   0   0\n",
       "1   0  24   3\n",
       "2   0   1  26"
      ]
     },
     "execution_count": 19,
     "metadata": {},
     "output_type": "execute_result"
    }
   ],
   "source": [
    "pd.DataFrame(sk_me.confusion_matrix(iris_train_target, \n",
    "                                    iris_train_predict\n",
    "                                   )\n",
    "            )"
   ]
  },
  {
   "cell_type": "markdown",
   "metadata": {},
   "source": [
    "Produce a confusing matrix for predictions on the test dataset. Notice the lack of errors. "
   ]
  },
  {
   "cell_type": "code",
   "execution_count": 20,
   "metadata": {
    "collapsed": false
   },
   "outputs": [
    {
     "data": {
      "text/html": [
       "<div>\n",
       "<table border=\"1\" class=\"dataframe\">\n",
       "  <thead>\n",
       "    <tr style=\"text-align: right;\">\n",
       "      <th></th>\n",
       "      <th>0</th>\n",
       "      <th>1</th>\n",
       "      <th>2</th>\n",
       "    </tr>\n",
       "  </thead>\n",
       "  <tbody>\n",
       "    <tr>\n",
       "      <th>0</th>\n",
       "      <td>29</td>\n",
       "      <td>0</td>\n",
       "      <td>0</td>\n",
       "    </tr>\n",
       "    <tr>\n",
       "      <th>1</th>\n",
       "      <td>0</td>\n",
       "      <td>23</td>\n",
       "      <td>0</td>\n",
       "    </tr>\n",
       "    <tr>\n",
       "      <th>2</th>\n",
       "      <td>0</td>\n",
       "      <td>0</td>\n",
       "      <td>23</td>\n",
       "    </tr>\n",
       "  </tbody>\n",
       "</table>\n",
       "</div>"
      ],
      "text/plain": [
       "    0   1   2\n",
       "0  29   0   0\n",
       "1   0  23   0\n",
       "2   0   0  23"
      ]
     },
     "execution_count": 20,
     "metadata": {},
     "output_type": "execute_result"
    }
   ],
   "source": [
    "pd.DataFrame(sk_me.confusion_matrix(iris_test_target, \n",
    "                                    iris_test_predict\n",
    "                                   )\n",
    "            )"
   ]
  },
  {
   "cell_type": "markdown",
   "metadata": {},
   "source": [
    "### Support vector machine - linear\n",
    "\n",
    "In a very informal sense, the support vector machine model is used to separate two sets of datapoints.\n",
    "\n",
    "In the most basic case the separator is a line in the plane. \n",
    "Here we use the iris dataset with two variables (petal length and petal width.)\n",
    "\n",
    "![text](mlst_0501.png)\n",
    "\n",
    "With three variables the separator would be a plane. \n",
    "With more than three variables the separator is called a _hyperplane_."
   ]
  },
  {
   "cell_type": "markdown",
   "metadata": {},
   "source": [
    "Notice on the left example that many lines can be drawn that separate these two sets of datapoints. \n",
    "\n",
    "The best separator is determined by creating the widest possible street, which is refered to as the __margin__, that separates the two sets of datapoints.\n",
    "This is called __large margin classification__. \n",
    "\n",
    "Notice that both edges of the street will always touch at least one data point (each.)"
   ]
  },
  {
   "cell_type": "markdown",
   "metadata": {},
   "source": [
    "But this isn't realistic. Most pairs of dataset are not so easily separated, especially with a line/plane/hyperplane. \n",
    "See the example on the left. \n",
    "\n",
    "![alt text](mlst_0503.png \"title\")\n",
    "\n",
    "In addition, these separators (and the SVM model) are sensitive to outliers, as you can see on the right.\n",
    "\n",
    "One remedy for both of these problems is to create a margin, that is still as wide as possible, but that allows exceptions, which are points either in, or on the wrong side of, the street/margin. These points are called __margin violations__ in the text. This is called __soft margin classification__ and is used in practice."
   ]
  },
  {
   "cell_type": "markdown",
   "metadata": {},
   "source": [
    "There are two goals of SVM using soft margin classification: \n",
    "\n",
    "1. To create a wide margin/street\n",
    "1. To minimize the number of violations\n",
    "\n",
    "The `LinearSVC` and `SVC` implementations have a parameter `C` to balance the margin width and the number of violations:\n",
    "\n",
    "- a smaller `C` makes a wider margin, but more margin violations\n",
    "- a high `C` makes fewer margin violations, but a smaller margin"
   ]
  },
  {
   "cell_type": "markdown",
   "metadata": {},
   "source": [
    "From the text: \n",
    "- Alternatively, you could use the SVC class, using SVC(kernel=\"linear\", C=1), but it is much slower, especially with large training sets, so it is not recommended. \n",
    "- Another option is to use the SGDClassifier class, with SGDClassifier(loss=\"hinge\", alpha=1/(m*C)): this applies regular Stochastic Gradient Descent (see Chapter 4) to train a linear SVM classifier. It does not converge as fast as the LinearSVC class, but it can be useful to handle huge datasets that do not fit in memory (out-of-core training), or to handle online classification tasks.\n",
    "\n",
    "The `SGDClassifier` is useful for large datasets o"
   ]
  },
  {
   "cell_type": "markdown",
   "metadata": {},
   "source": [
    "### Support vector machine - non-linear\n",
    "\n",
    "Notice that the left example, with a single variable $x_1$, is not separable. \n",
    "\n",
    "But in the right example, the new dataset is separable, with only one additional variable $x_2 = (x_1)^2$.\n",
    "\n",
    "![](mlst_0505.png)\n",
    "\n",
    "The following code uses the `PolynomialFeatures` class to create new variables for, in this case, the 0th, 1st and 2nd order terms:"
   ]
  },
  {
   "cell_type": "markdown",
   "metadata": {},
   "source": [
    "First create three a dataset with three rows and two columns:"
   ]
  },
  {
   "cell_type": "code",
   "execution_count": 24,
   "metadata": {
    "collapsed": false
   },
   "outputs": [
    {
     "data": {
      "text/plain": [
       "array([[0, 1],\n",
       "       [2, 3],\n",
       "       [4, 5]])"
      ]
     },
     "execution_count": 24,
     "metadata": {},
     "output_type": "execute_result"
    }
   ],
   "source": [
    "X = np.arange(6).reshape(3, 2)\n",
    "X"
   ]
  },
  {
   "cell_type": "markdown",
   "metadata": {},
   "source": [
    "Now add 0th and 2nd degree polynomial features to the dataset:"
   ]
  },
  {
   "cell_type": "code",
   "execution_count": 25,
   "metadata": {
    "collapsed": false
   },
   "outputs": [
    {
     "data": {
      "text/plain": [
       "array([[  1.,   0.,   1.,   0.,   0.,   1.],\n",
       "       [  1.,   2.,   3.,   4.,   6.,   9.],\n",
       "       [  1.,   4.,   5.,  16.,  20.,  25.]])"
      ]
     },
     "execution_count": 25,
     "metadata": {},
     "output_type": "execute_result"
    }
   ],
   "source": [
    "poly = sk_pp.PolynomialFeatures(2)\n",
    "poly.fit_transform(X)"
   ]
  },
  {
   "cell_type": "markdown",
   "metadata": {},
   "source": [
    "Using this technique doesn't scale well so it's useful only as a motivating example. "
   ]
  },
  {
   "cell_type": "markdown",
   "metadata": {},
   "source": [
    "The following code creates a dataset with a categorical target variable `z`, where the two classes are not easily separable, which we will separate using the non-linear SVM method."
   ]
  },
  {
   "cell_type": "code",
   "execution_count": 28,
   "metadata": {
    "collapsed": false
   },
   "outputs": [
    {
     "data": {
      "text/html": [
       "<div>\n",
       "<table border=\"1\" class=\"dataframe\">\n",
       "  <thead>\n",
       "    <tr style=\"text-align: right;\">\n",
       "      <th></th>\n",
       "      <th>x</th>\n",
       "      <th>y</th>\n",
       "      <th>z</th>\n",
       "    </tr>\n",
       "  </thead>\n",
       "  <tbody>\n",
       "    <tr>\n",
       "      <th>0</th>\n",
       "      <td>-0.572117</td>\n",
       "      <td>0.820172</td>\n",
       "      <td>0.0</td>\n",
       "    </tr>\n",
       "    <tr>\n",
       "      <th>1</th>\n",
       "      <td>0.903977</td>\n",
       "      <td>-0.495379</td>\n",
       "      <td>1.0</td>\n",
       "    </tr>\n",
       "    <tr>\n",
       "      <th>2</th>\n",
       "      <td>-0.900969</td>\n",
       "      <td>0.433884</td>\n",
       "      <td>0.0</td>\n",
       "    </tr>\n",
       "  </tbody>\n",
       "</table>\n",
       "</div>"
      ],
      "text/plain": [
       "          x         y    z\n",
       "0 -0.572117  0.820172  0.0\n",
       "1  0.903977 -0.495379  1.0\n",
       "2 -0.900969  0.433884  0.0"
      ]
     },
     "execution_count": 28,
     "metadata": {},
     "output_type": "execute_result"
    }
   ],
   "source": [
    "moons_ind, moons_tgt = sk_ds.make_moons()\n",
    "moons_df = pd.DataFrame(np.concatenate((moons_ind, \n",
    "                                        moons_tgt.reshape((100,1))), \n",
    "                                       axis=1))\n",
    "moons_df.columns = ['x','y','z']\n",
    "moons_df[0:3]"
   ]
  },
  {
   "cell_type": "markdown",
   "metadata": {},
   "source": [
    "Now plot the two classes. It's clear that they are not linearly separable."
   ]
  },
  {
   "cell_type": "code",
   "execution_count": 102,
   "metadata": {
    "collapsed": false
   },
   "outputs": [
    {
     "data": {
      "text/plain": [
       "<seaborn.axisgrid.FacetGrid at 0x7f4f57f9e5f8>"
      ]
     },
     "execution_count": 102,
     "metadata": {},
     "output_type": "execute_result"
    },
    {
     "data": {
      "image/png": "[encoded data removed]",
      "text/plain": [
       "<matplotlib.figure.Figure at 0x7f4f58016b38>"
      ]
     },
     "metadata": {},
     "output_type": "display_data"
    }
   ],
   "source": [
    "sea.lmplot('x', 'y', data=moons_df, hue='z', fit_reg=False)"
   ]
  },
  {
   "cell_type": "markdown",
   "metadata": {},
   "source": [
    "In a pipeline you _could_ create the new 2nd order features, normalize all the features and then fit a linear SVM model to the new dataset. \n",
    "\n",
    "The following code:\n",
    "1. transforms the data by creating the polynomial terms\n",
    "1. normalizes the features \n",
    "1. finds a linear SVM model that separates the two classes. "
   ]
  },
  {
   "cell_type": "code",
   "execution_count": 103,
   "metadata": {
    "collapsed": false
   },
   "outputs": [
    {
     "data": {
      "text/plain": [
       "Pipeline(steps=(('poly_features', PolynomialFeatures(degree=2, include_bias=True, interaction_only=False)), ('scaler', StandardScaler(copy=True, with_mean=True, with_std=True)), ('svm_clf', LinearSVC(C=10, class_weight=None, dual=True, fit_intercept=True,\n",
       "     intercept_scaling=1, loss='hinge', max_iter=1000, multi_class='ovr',\n",
       "     penalty='l2', random_state=None, tol=0.0001, verbose=0))))"
      ]
     },
     "execution_count": 103,
     "metadata": {},
     "output_type": "execute_result"
    }
   ],
   "source": [
    "polynomial_svm_clf = Pipeline((\n",
    "        (\"poly_features\", sk_pp.PolynomialFeatures(degree=2)),\n",
    "        (\"scaler\"       , sk_pp.StandardScaler()),\n",
    "        (\"svm_clf\"      , sk_sv.LinearSVC(C=10, loss=\"hinge\"))\n",
    "    ))\n",
    "\n",
    "polynomial_svm_clf.fit(moons_ind,\n",
    "                       moons_tgt)"
   ]
  },
  {
   "cell_type": "markdown",
   "metadata": {},
   "source": [
    "The __kernel trick__ does this type of thing (but better) and is implemented in the `SVC` class. \n",
    "\n",
    "Try this code with `degree=1`, `degree=2` and `degree=3` and check the resulting confusion matrix. "
   ]
  },
  {
   "cell_type": "code",
   "execution_count": 35,
   "metadata": {
    "collapsed": false
   },
   "outputs": [
    {
     "data": {
      "text/plain": [
       "array([[44,  6],\n",
       "       [ 6, 44]])"
      ]
     },
     "execution_count": 35,
     "metadata": {},
     "output_type": "execute_result"
    }
   ],
   "source": [
    "poly_kernel_svm_clf = sk_pl.Pipeline((\n",
    "        (\"scaler\" , sk_pp.StandardScaler()),\n",
    "        (\"svm_clf\", sk_sv.SVC(kernel=\"poly\", degree=1, coef0=1, C=5))\n",
    "    ))\n",
    "poly_kernel_svm_clf.fit(moons_ind, moons_tgt)\n",
    "moons_pre = poly_kernel_svm_clf.predict(moons_ind)\n",
    "sk_me.confusion_matrix(moons_pre, \n",
    "                       moons_tgt)"
   ]
  },
  {
   "cell_type": "markdown",
   "metadata": {},
   "source": [
    "For documentation on SVM classifiers in the `sklearn` library, see: \n",
    "\n",
    "- http://scikit-learn.org/stable/modules/svm.html\n",
    "- http://scikit-learn.org/stable/auto_examples/svm/plot_svm_kernels.html\n",
    "- http://scikit-learn.org/stable/modules/generated/sklearn.svm.SVC.html#sklearn.svm.SVC\n",
    "- http://scikit-learn.org/stable/modules/generated/sklearn.svm.LinearSVC.html\n",
    "- http://scikit-learn.org/stable/modules/generated/sklearn.svm.NuSVC.html"
   ]
  },
  {
   "cell_type": "markdown",
   "metadata": {},
   "source": [
    "### Support vector machine - see also\n",
    "\n",
    "- Similarity features (general method method, see text)\n",
    "- Gaussian RBF kernel \n",
    "\n",
    "#### Support vector machine - computational complexity\n",
    "\n",
    "- `LinearSVC` uses `liblinear` library: $O(m \\times n / \\log(\\epsilon))$\n",
    "- `SVC` class is based on the `libsvm` library: $O(m^2 \\times n/\\epsilon^2)$ to $O(m^3 \\times n/\\epsilon^2)$"
   ]
  },
  {
   "cell_type": "markdown",
   "metadata": {},
   "source": [
    "### Multi-class/label/output classification"
   ]
  },
  {
   "cell_type": "markdown",
   "metadata": {},
   "source": [
    "### Read the MNIST dataset\n",
    "\n",
    "We use the MNIST dataset for examples."
   ]
  },
  {
   "cell_type": "code",
   "execution_count": 36,
   "metadata": {
    "collapsed": false
   },
   "outputs": [],
   "source": [
    "mnist = pickle.load(open( \"mnist.p\", \"rb\" ))"
   ]
  },
  {
   "cell_type": "code",
   "execution_count": 37,
   "metadata": {
    "collapsed": false
   },
   "outputs": [
    {
     "data": {
      "text/plain": [
       "LabelBinarizer(neg_label=0, pos_label=1, sparse_output=False)"
      ]
     },
     "execution_count": 37,
     "metadata": {},
     "output_type": "execute_result"
    }
   ],
   "source": [
    "lb = sk_pp.LabelBinarizer()\n",
    "lb.fit(range(10))"
   ]
  },
  {
   "cell_type": "markdown",
   "metadata": {},
   "source": [
    "Split MNIST data set into train and test data sets."
   ]
  },
  {
   "cell_type": "code",
   "execution_count": 38,
   "metadata": {
    "collapsed": false
   },
   "outputs": [
    {
     "data": {
      "text/plain": [
       "((56000, 784),\n",
       " (14000, 784),\n",
       " (56000,),\n",
       " (14000,),\n",
       " (56000,),\n",
       " (14000,),\n",
       " (56000, 10),\n",
       " (14000, 10))"
      ]
     },
     "execution_count": 38,
     "metadata": {},
     "output_type": "execute_result"
    }
   ],
   "source": [
    "(train_data,        test_data, \n",
    " train_target,      test_target,\n",
    " train_target_eq8,  test_target_eq8,\n",
    " train_target_1hot, test_target_1hot, \n",
    ") = sk_ms.train_test_split(mnist.data,\n",
    "                           mnist.target.astype(int),\n",
    "                           (mnist.target.astype(int)==8).astype(int),\n",
    "                           lb.transform(mnist.target),\n",
    "                           test_size=0.2, \n",
    "                           random_state=42)\n",
    "\n",
    "(train_data.shape,        test_data.shape, \n",
    " train_target.shape,      test_target.shape,\n",
    " train_target_eq8.shape,  test_target_eq8.shape,\n",
    " train_target_1hot.shape, test_target_1hot.shape,\n",
    ")"
   ]
  },
  {
   "cell_type": "code",
   "execution_count": 39,
   "metadata": {
    "collapsed": false
   },
   "outputs": [
    {
     "data": {
      "text/plain": [
       "array([7, 7, 1])"
      ]
     },
     "execution_count": 39,
     "metadata": {},
     "output_type": "execute_result"
    }
   ],
   "source": [
    "train_target[0:3]"
   ]
  },
  {
   "cell_type": "code",
   "execution_count": 40,
   "metadata": {
    "collapsed": false
   },
   "outputs": [
    {
     "data": {
      "text/plain": [
       "array([[0, 0, 0, 0, 0, 0, 0, 1, 0, 0],\n",
       "       [0, 0, 0, 0, 0, 0, 0, 1, 0, 0],\n",
       "       [0, 1, 0, 0, 0, 0, 0, 0, 0, 0]])"
      ]
     },
     "execution_count": 40,
     "metadata": {},
     "output_type": "execute_result"
    }
   ],
   "source": [
    "train_target_1hot[0:3]"
   ]
  },
  {
   "cell_type": "markdown",
   "metadata": {},
   "source": [
    "### Multi-class and multi-label classification\n",
    "\n",
    "Multiclass and multilabel algorithms: http://scikit-learn.org/stable/modules/multiclass.html"
   ]
  },
  {
   "cell_type": "code",
   "execution_count": 48,
   "metadata": {
    "collapsed": false
   },
   "outputs": [],
   "source": [
    "sgd_clf = sk_lm.SGDClassifier(loss='log', alpha=0.1, random_state=42)"
   ]
  },
  {
   "cell_type": "markdown",
   "metadata": {},
   "source": [
    "All of the `sklearn` classifiers are multi-class. In fact they all default to one-vs-rest classification except for SVM which uses one-vs-one. You can change this useing either:\n",
    "- `OneVsRestClassifier` can be used with any binary classifier and can fit one hot targets\n",
    "- `OneVsOneClassifier` can be used with any binary classifier, but cannot fit one hot targets"
   ]
  },
  {
   "cell_type": "code",
   "execution_count": 49,
   "metadata": {
    "collapsed": false
   },
   "outputs": [],
   "source": [
    "ovr_clf = sk_mc.OneVsRestClassifier(sk_lm.SGDClassifier()\n",
    "                             )\n",
    "train_fit = ovr_clf.fit(train_data,\n",
    "                        train_target_1hot\n",
    "                       )\n",
    "test_predict_1hot = train_fit.predict(test_data)"
   ]
  },
  {
   "cell_type": "code",
   "execution_count": 50,
   "metadata": {
    "collapsed": false
   },
   "outputs": [
    {
     "data": {
      "text/plain": [
       "array([[0, 0, 0, 0, 0, 0, 0, 1, 0, 0],\n",
       "       [0, 0, 0, 0, 0, 0, 0, 0, 1, 0],\n",
       "       [0, 0, 0, 0, 0, 0, 1, 0, 0, 0]])"
      ]
     },
     "execution_count": 50,
     "metadata": {},
     "output_type": "execute_result"
    }
   ],
   "source": [
    "test_predict_1hot[:3]"
   ]
  },
  {
   "cell_type": "code",
   "execution_count": 51,
   "metadata": {
    "collapsed": false
   },
   "outputs": [],
   "source": [
    "test_predict = sk_mc.OneVsOneClassifier(sgd_clf).fit(train_data, train_target).predict(test_data)"
   ]
  },
  {
   "cell_type": "markdown",
   "metadata": {},
   "source": [
    "### Multi-label classification\n",
    "\n",
    "The `KNeighborsClassifier` class can predict multi-label categorical targets.\n",
    "\n",
    "See http://scikit-learn.org/stable/auto_examples/plot_multilabel.html"
   ]
  },
  {
   "cell_type": "markdown",
   "metadata": {},
   "source": [
    "First create two target variables:\n",
    "- The first is `True` when the digit is greater than or equal to `7`\n",
    "- The second is `True` when the target is odd\n",
    "\n",
    "Create a single multilabel target array:"
   ]
  },
  {
   "cell_type": "code",
   "execution_count": 54,
   "metadata": {
    "collapsed": false
   },
   "outputs": [],
   "source": [
    "y_multilabel = np.c_[train_target >= 7, \n",
    "                     train_target % 2 == 1\n",
    "                    ]"
   ]
  },
  {
   "cell_type": "markdown",
   "metadata": {},
   "source": [
    "Create a K-nearest neighbors classifier and fit it to the training data:"
   ]
  },
  {
   "cell_type": "code",
   "execution_count": 61,
   "metadata": {
    "collapsed": false
   },
   "outputs": [
    {
     "data": {
      "text/plain": [
       "KNeighborsClassifier(algorithm='auto', leaf_size=30, metric='minkowski',\n",
       "           metric_params=None, n_jobs=1, n_neighbors=5, p=2,\n",
       "           weights='uniform')"
      ]
     },
     "execution_count": 61,
     "metadata": {},
     "output_type": "execute_result"
    }
   ],
   "source": [
    "knn_clf = sk_nb.KNeighborsClassifier()\n",
    "\n",
    "knn_clf.fit(train_data, y_multilabel)"
   ]
  },
  {
   "cell_type": "markdown",
   "metadata": {},
   "source": [
    "Store three random row numbers in `test_ndx`. \n",
    "\n",
    "Then display the actual and predicted target values:"
   ]
  },
  {
   "cell_type": "code",
   "execution_count": 66,
   "metadata": {
    "collapsed": false
   },
   "outputs": [
    {
     "name": "stdout",
     "output_type": "stream",
     "text": [
      "Actual:  [5 0 5]\n",
      "Predicted [ >=7, odd]: \n"
     ]
    },
    {
     "data": {
      "text/plain": [
       "array([[False,  True],\n",
       "       [False, False],\n",
       "       [False,  True]], dtype=bool)"
      ]
     },
     "execution_count": 66,
     "metadata": {},
     "output_type": "execute_result"
    }
   ],
   "source": [
    "test_ndx = np.random.randint(0, train_data.shape[1], size=3)\n",
    "print(\"Actual: \", train_target[test_ndx])\n",
    "print(\"Predicted [ >=7, odd]: \")\n",
    "knn_clf.predict(train_data[test_ndx])"
   ]
  },
  {
   "cell_type": "markdown",
   "metadata": {},
   "source": [
    "The `MultiLabelBinarizer` is good to now about, but is not part of an example."
   ]
  },
  {
   "cell_type": "code",
   "execution_count": 67,
   "metadata": {
    "collapsed": false
   },
   "outputs": [
    {
     "data": {
      "text/plain": [
       "array([[0, 0, 1, 1, 1],\n",
       "       [0, 0, 1, 0, 0],\n",
       "       [1, 1, 0, 1, 0],\n",
       "       [1, 1, 1, 1, 1],\n",
       "       [1, 1, 1, 0, 0]])"
      ]
     },
     "execution_count": 67,
     "metadata": {},
     "output_type": "execute_result"
    }
   ],
   "source": [
    "y = [[2, 3, 4], [2], [0, 1, 3], [0, 1, 2, 3, 4], [0, 1, 2]]\n",
    "sk_pp.MultiLabelBinarizer().fit_transform(y)"
   ]
  },
  {
   "cell_type": "markdown",
   "metadata": {},
   "source": [
    "### Scoring and metrics\n",
    "\n",
    "Scoring parameter: http://scikit-learn.org/stable/modules/model_evaluation.html#scoring-parameter\n",
    "\n",
    "sklearn.metrics: http://scikit-learn.org/stable/modules/classes.html#module-sklearn.metrics\n",
    "\n",
    "[3.3. Model evaluation: quantifying the quality of predictions](http://scikit-learn.org/stable/modules/model_evaluation.html)\n",
    "\n",
    "- `classification_report` returns precision, recall and F1-score.\n"
   ]
  },
  {
   "cell_type": "code",
   "execution_count": 68,
   "metadata": {
    "collapsed": false
   },
   "outputs": [
    {
     "ename": "NameError",
     "evalue": "name 'train_predict' is not defined",
     "output_type": "error",
     "traceback": [
      "\u001b[0;31m---------------------------------------------------------------------------\u001b[0m",
      "\u001b[0;31mNameError\u001b[0m                                 Traceback (most recent call last)",
      "\u001b[0;32m<ipython-input-68-81c252501450>\u001b[0m in \u001b[0;36m<module>\u001b[0;34m()\u001b[0m\n\u001b[1;32m      1\u001b[0m sk_me.accuracy_score(train_target, \n\u001b[0;32m----> 2\u001b[0;31m                      \u001b[0mtrain_predict\u001b[0m\u001b[0;34m\u001b[0m\u001b[0m\n\u001b[0m\u001b[1;32m      3\u001b[0m                     )\n",
      "\u001b[0;31mNameError\u001b[0m: name 'train_predict' is not defined"
     ]
    }
   ],
   "source": [
    "sk_me.accuracy_score(train_target, \n",
    "                     train_predict\n",
    "                    )"
   ]
  },
  {
   "cell_type": "code",
   "execution_count": null,
   "metadata": {
    "collapsed": true
   },
   "outputs": [],
   "source": [
    "metrics.f1_score(train_target, train_predict)"
   ]
  },
  {
   "cell_type": "markdown",
   "metadata": {},
   "source": [
    "'micro': Calculate metrics globally by counting the total true positives, false negatives and false positives.\n",
    "\n",
    "'macro': Calculate metrics for each label, and find their unweighted mean. This does not take label imbalance into account.\n",
    "\n",
    "'weighted': Calculate metrics for each label, and find their average, weighted by support (the number of true instances for each label). This alters ‘macro’ to account for label imbalance; it can result in an F-score that is not between precision and recall.\n"
   ]
  },
  {
   "cell_type": "code",
   "execution_count": null,
   "metadata": {
    "collapsed": false
   },
   "outputs": [],
   "source": [
    "metrics.f1_score(train_target, train_predict, average='micro')"
   ]
  },
  {
   "cell_type": "code",
   "execution_count": null,
   "metadata": {
    "collapsed": false
   },
   "outputs": [],
   "source": [
    "metrics.f1_score(train_target, train_predict, average='macro')"
   ]
  },
  {
   "cell_type": "code",
   "execution_count": null,
   "metadata": {
    "collapsed": false
   },
   "outputs": [],
   "source": [
    "metrics.f1_score(train_target, train_predict, average='weighted')"
   ]
  },
  {
   "cell_type": "code",
   "execution_count": null,
   "metadata": {
    "collapsed": false
   },
   "outputs": [],
   "source": [
    "print(metrics.classification_report(train_target, train_predict))"
   ]
  },
  {
   "cell_type": "markdown",
   "metadata": {},
   "source": [
    "`average_precision_score` may require 1hot encoding"
   ]
  },
  {
   "cell_type": "code",
   "execution_count": null,
   "metadata": {
    "collapsed": true
   },
   "outputs": [],
   "source": [
    "metrics.average_precision_score(train_target, train_predict)"
   ]
  },
  {
   "cell_type": "code",
   "execution_count": null,
   "metadata": {
    "collapsed": true
   },
   "outputs": [],
   "source": [
    "metrics.precision_score(train_target, train_predict, average='micro')"
   ]
  }
 ],
 "metadata": {
  "kernelspec": {
   "display_name": "Python 3",
   "language": "python",
   "name": "python3"
  },
  "language_info": {
   "codemirror_mode": {
    "name": "ipython",
    "version": 3
   },
   "file_extension": ".py",
   "mimetype": "text/x-python",
   "name": "python",
   "nbconvert_exporter": "python",
   "pygments_lexer": "ipython3",
   "version": "3.5.2"
  }
 },
 "nbformat": 4,
 "nbformat_minor": 2
}
