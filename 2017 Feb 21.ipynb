{
 "cells": [
  {
   "cell_type": "markdown",
   "metadata": {
    "deletable": true,
    "editable": true
   },
   "source": [
    "# Classification\n",
    "\n",
    "### MA755 Machine Learning - 21 Feb 2017"
   ]
  },
  {
   "cell_type": "markdown",
   "metadata": {
    "deletable": true,
    "editable": true
   },
   "source": [
    "### Dataset: MNIST\n",
    "\n",
    "- http://yann.lecun.com/exdb/mnist/"
   ]
  },
  {
   "cell_type": "code",
   "execution_count": 1,
   "metadata": {
    "collapsed": false,
    "deletable": true,
    "editable": true
   },
   "outputs": [
    {
     "name": "stderr",
     "output_type": "stream",
     "text": [
      "/opt/conda/lib/python3.5/site-packages/matplotlib/font_manager.py:273: UserWarning: Matplotlib is building the font cache using fc-list. This may take a moment.\n",
      "  warnings.warn('Matplotlib is building the font cache using fc-list. This may take a moment.')\n",
      "/opt/conda/lib/python3.5/site-packages/matplotlib/font_manager.py:273: UserWarning: Matplotlib is building the font cache using fc-list. This may take a moment.\n",
      "  warnings.warn('Matplotlib is building the font cache using fc-list. This may take a moment.')\n"
     ]
    }
   ],
   "source": [
    "import pickle\n",
    "import matplotlib\n",
    "import matplotlib.pyplot as plt\n",
    "import numpy         as np"
   ]
  },
  {
   "cell_type": "code",
   "execution_count": 2,
   "metadata": {
    "collapsed": false,
    "deletable": true,
    "editable": true
   },
   "outputs": [],
   "source": [
    "%matplotlib inline"
   ]
  },
  {
   "cell_type": "code",
   "execution_count": 3,
   "metadata": {
    "collapsed": false,
    "deletable": true,
    "editable": true
   },
   "outputs": [],
   "source": [
    "from sklearn.datasets.mldata import fetch_mldata\n",
    "from sklearn.model_selection import train_test_split\n",
    "from sklearn.model_selection import cross_val_score\n",
    "from sklearn.model_selection import cross_val_predict\n",
    "from sklearn.linear_model    import SGDClassifier\n",
    "from sklearn.linear_model    import LogisticRegression\n",
    "from sklearn.preprocessing   import LabelBinarizer\n",
    "from sklearn.metrics         import confusion_matrix\n",
    "from sklearn.multiclass      import OneVsRestClassifier\n",
    "from sklearn.multiclass      import OneVsOneClassifier"
   ]
  },
  {
   "cell_type": "markdown",
   "metadata": {
    "deletable": true,
    "editable": true
   },
   "source": [
    "When running this notebook for the first time change the following cell to a code cell and then run it. \n",
    "\n",
    "The two commands in that cell:\n",
    "- get the MNIST data using `fetch_mldata`\n",
    "- store the data locally in a pickle file"
   ]
  },
  {
   "cell_type": "markdown",
   "metadata": {
    "collapsed": false,
    "deletable": true,
    "editable": true
   },
   "source": [
    "mnist = fetch_mldata('MNIST original')\n",
    "pickle.dump(mnist, open( \"mnist.p\", \"wb\" ))"
   ]
  },
  {
   "cell_type": "markdown",
   "metadata": {
    "deletable": true,
    "editable": true
   },
   "source": [
    "Use the following command, which loads the dataset from the pickle file, after you have saved the data in a pickle file with the previous command."
   ]
  },
  {
   "cell_type": "code",
   "execution_count": 4,
   "metadata": {
    "collapsed": false,
    "deletable": true,
    "editable": true
   },
   "outputs": [],
   "source": [
    "mnist = pickle.load(open( \"mnist.p\", \"rb\" ))"
   ]
  },
  {
   "cell_type": "code",
   "execution_count": 5,
   "metadata": {
    "collapsed": false,
    "deletable": true,
    "editable": true
   },
   "outputs": [
    {
     "name": "stdout",
     "output_type": "stream",
     "text": [
      "mnist.data.shape   (70000, 784)\n",
      "mnist.target.shape (70000,)\n"
     ]
    }
   ],
   "source": [
    "print(\"mnist.data.shape  \", mnist.data.shape)\n",
    "print(\"mnist.target.shape\", mnist.target.shape)"
   ]
  },
  {
   "cell_type": "markdown",
   "metadata": {
    "deletable": true,
    "editable": true
   },
   "source": [
    "Notice that the target variable has `10` values (as expected.)"
   ]
  },
  {
   "cell_type": "code",
   "execution_count": 6,
   "metadata": {
    "collapsed": false,
    "deletable": true,
    "editable": true
   },
   "outputs": [
    {
     "name": "stdout",
     "output_type": "stream",
     "text": [
      "[0 1 2 3 4 5 6 7 8 9]\n"
     ]
    }
   ],
   "source": [
    "print(np.unique(mnist.target.astype(int)))"
   ]
  },
  {
   "cell_type": "markdown",
   "metadata": {
    "deletable": true,
    "editable": true
   },
   "source": [
    "### Train and test datasets\n",
    "\n",
    "Our goal is to find the best predictive model on the given (mnist) dataset. \n",
    "\n",
    "The dataset should be split into a _training dataset_, a _validation dataset_ and a _testing dataset_ where:\n",
    "\n",
    "- The training dataset is used to create the models\n",
    "- Each model is evaluated on the validation dataset\n",
    "- The best model is then evaluated on the testing dataset\n",
    "\n",
    "The reason behind this splitting of the datasets is that a model shouldn't be evaluated on the same data used to create it. This applies in two cases:\n",
    "\n",
    "1. Each of the initial models, created from the training dataset, should be evaluated on different dataset (the training dataset) than were used to create it\n",
    "1. The best model was chosen by comparing it to many other models. This won't be the case when this model is used in practice. So we evaluate this (best) model on unseen data, which is the testing dataset\n",
    "\n",
    "For more details on this process see [Wikipedia](https://en.wikipedia.org/wiki/Test_set#Validation_set)."
   ]
  },
  {
   "cell_type": "markdown",
   "metadata": {
    "deletable": true,
    "editable": true
   },
   "source": [
    "We split the MNIST dataset into training datasets and testing datasets as follows. \n",
    "\n",
    "We have a single dataset `mnist.data` of independent variables, which is split into a training dataset and a testing dataset. \n",
    "\n",
    "We have three target datasets:\n",
    "1. `mnist.target` which is an integer variable with values `0` through `9`\n",
    "1. `mnist_target6` which is a binary variable that is:\n",
    "    - 1 if the corresponding value in `mnist.target` is a `6` \n",
    "    - 0 if the corresponding value in `mnist.target` is not a `6`\n",
    "1. `mnist_target_1hot` which is ten (10) dummy variables corresponding to <break>each of the ten (10) possible values of `mnist.target`\n",
    "\n",
    "The three dependent datasets are used to demonstrate prediction on three types of categorical target variables:\n",
    "- `mnist_target6`: use of binary categorical target variables\n",
    "- `mnist.target`: use of multi-class categorical variables with integer values\n",
    "- `mnist_target_1hot`: use of multi-class categorical variables with dummy variables\n",
    "\n",
    "These training and testing datasets are created below, but first the creation of dummy variables is demonstrated. "
   ]
  },
  {
   "cell_type": "code",
   "execution_count": 7,
   "metadata": {
    "collapsed": false,
    "deletable": true,
    "editable": true
   },
   "outputs": [
    {
     "data": {
      "text/plain": [
       "(array([[1, 0, 0, ..., 0, 0, 0],\n",
       "        [1, 0, 0, ..., 0, 0, 0],\n",
       "        [1, 0, 0, ..., 0, 0, 0],\n",
       "        ..., \n",
       "        [0, 0, 0, ..., 0, 0, 1],\n",
       "        [0, 0, 0, ..., 0, 0, 1],\n",
       "        [0, 0, 0, ..., 0, 0, 1]]), (70000,), (70000, 10))"
      ]
     },
     "execution_count": 7,
     "metadata": {},
     "output_type": "execute_result"
    }
   ],
   "source": [
    "mnist_target_1hot = LabelBinarizer().fit_transform(mnist.target)\n",
    "mnist_target_1hot, mnist.target.shape, mnist_target_1hot.shape"
   ]
  },
  {
   "cell_type": "markdown",
   "metadata": {
    "deletable": true,
    "editable": true
   },
   "source": [
    "Now the datasets are created."
   ]
  },
  {
   "cell_type": "code",
   "execution_count": 8,
   "metadata": {
    "collapsed": false,
    "deletable": true,
    "editable": true
   },
   "outputs": [
    {
     "data": {
      "text/plain": [
       "((56000, 784),\n",
       " (14000, 784),\n",
       " (56000,),\n",
       " (14000,),\n",
       " (56000,),\n",
       " (14000,),\n",
       " (56000, 10),\n",
       " (14000, 10))"
      ]
     },
     "execution_count": 8,
     "metadata": {},
     "output_type": "execute_result"
    }
   ],
   "source": [
    "(train_data,        test_data, \n",
    " train_target,      test_target, \n",
    " train_target_6,    test_target_6, \n",
    " train_target_1hot, test_target_1hot\n",
    ") = train_test_split(mnist.data, \n",
    "                     mnist.target,\n",
    "                     (mnist.target==6).astype(int), \n",
    "                     LabelBinarizer().fit_transform(mnist.target),\n",
    "                     test_size=0.2, \n",
    "                     random_state=42)\n",
    "\n",
    "(train_data.shape,        test_data.shape, \n",
    " train_target.shape,      test_target.shape,\n",
    " train_target_6.shape,    test_target_6.shape, \n",
    " train_target_1hot.shape, test_target_1hot.shape\n",
    ")"
   ]
  },
  {
   "cell_type": "markdown",
   "metadata": {
    "deletable": true,
    "editable": true
   },
   "source": [
    "Notice the number of rows in each train/test dataset and the number of rows in the 1hot datasets."
   ]
  },
  {
   "cell_type": "markdown",
   "metadata": {
    "deletable": true,
    "editable": true
   },
   "source": [
    "The training datasets are now split into training and validation datasets using __cross-validation__.\n",
    "\n",
    "The steps in the cross-validation process are:\n",
    "1. Partition the training dataset into `k` (equally sized) subsets.\n",
    "You can choose `k`, but it is usually `10`.\n",
    "1. For each subset of the training dataset: \n",
    "    1. Designate that subset as the validation dataset, the other partitions are the training dataset\n",
    "    1. Train your model on the training dataset\n",
    "    1. Using this model, make predictions on the validation set \n",
    "    1. Evaluate the performance of this model by checking the predictions made (with it) on the validation set\n",
    "1. Return a list containing the performance of each model on its corresponding validation dataset\n",
    "\n",
    "The cross-validation procedure is used below in the demonstrations of the different types of categorical target variables. "
   ]
  },
  {
   "cell_type": "markdown",
   "metadata": {
    "deletable": true,
    "editable": true
   },
   "source": [
    "### Types of target categorical variables \n",
    "\n",
    "Below we demonstrate predictions with three types of categorical target variable:\n",
    "- __binary__: two values (`0` and `1`)\n",
    "- __multi-class__: more than two integer values\n",
    "- __multi-class__: two or more binary/dummy variables\n",
    "- __multi-label__: two or more categorical variables (see [sklearn](http://scikit-learn.org/stable/modules/multiclass.html))"
   ]
  },
  {
   "cell_type": "markdown",
   "metadata": {
    "deletable": true,
    "editable": true
   },
   "source": [
    "### Classifying binary target variables"
   ]
  },
  {
   "cell_type": "markdown",
   "metadata": {
    "deletable": true,
    "editable": true
   },
   "source": [
    "Now we walk through the steps of creating a classifier and using cross-validation to check its performance.\n",
    "\n",
    "First create a classifier. (We use the defaults as the details of the classifier are not important at this point.)"
   ]
  },
  {
   "cell_type": "code",
   "execution_count": 9,
   "metadata": {
    "collapsed": true,
    "deletable": true,
    "editable": true
   },
   "outputs": [],
   "source": [
    "sgd_clf = SGDClassifier()"
   ]
  },
  {
   "cell_type": "code",
   "execution_count": 10,
   "metadata": {
    "collapsed": false,
    "deletable": true,
    "editable": true
   },
   "outputs": [],
   "source": [
    "test_predict = sgd_clf.fit(train_data, train_target_6).predict(test_data)"
   ]
  },
  {
   "cell_type": "markdown",
   "metadata": {
    "deletable": true,
    "editable": true
   },
   "source": [
    "The `confusion_matrix` function creates a table to compare the two variables:\n",
    "\n",
    "- the rows represent values of `train_target_6` (in this case `0` and `1`)\n",
    "- the columns represent values of `train_predict` (in this case `0` and `1`)\n",
    "- the cells display the number of rows (with those two values)"
   ]
  },
  {
   "cell_type": "code",
   "execution_count": 11,
   "metadata": {
    "collapsed": false,
    "deletable": true,
    "editable": true
   },
   "outputs": [
    {
     "data": {
      "text/plain": [
       "array([[12334,   259],\n",
       "       [   68,  1339]])"
      ]
     },
     "execution_count": 11,
     "metadata": {},
     "output_type": "execute_result"
    }
   ],
   "source": [
    "confusion_matrix(test_target_6, test_predict)"
   ]
  },
  {
   "cell_type": "markdown",
   "metadata": {
    "deletable": true,
    "editable": true
   },
   "source": [
    "Use `cross_val_predict` with the `SGDClassifier` to create predictions for every row in the dataset `train_data`. "
   ]
  },
  {
   "cell_type": "code",
   "execution_count": 12,
   "metadata": {
    "collapsed": false,
    "deletable": true,
    "editable": true
   },
   "outputs": [
    {
     "data": {
      "text/plain": [
       "((56000,), (56000,))"
      ]
     },
     "execution_count": 12,
     "metadata": {},
     "output_type": "execute_result"
    }
   ],
   "source": [
    "train_predict = cross_val_predict(sgd_clf, train_data, train_target_6, cv=3)\n",
    "train_target_6.shape, train_predict.shape"
   ]
  },
  {
   "cell_type": "code",
   "execution_count": 13,
   "metadata": {
    "collapsed": false,
    "deletable": true,
    "editable": true
   },
   "outputs": [
    {
     "data": {
      "text/plain": [
       "array([[49947,   584],\n",
       "       [  965,  4504]])"
      ]
     },
     "execution_count": 13,
     "metadata": {},
     "output_type": "execute_result"
    }
   ],
   "source": [
    "confusion_matrix(train_target_6, train_predict)"
   ]
  },
  {
   "cell_type": "markdown",
   "metadata": {
    "deletable": true,
    "editable": true
   },
   "source": [
    "The `cross_val_score` function is used to score each of the three (3) validation sets."
   ]
  },
  {
   "cell_type": "code",
   "execution_count": 14,
   "metadata": {
    "collapsed": false,
    "deletable": true,
    "editable": true
   },
   "outputs": [
    {
     "data": {
      "text/plain": [
       "array([ 0.97503616,  0.97632185,  0.97878496])"
      ]
     },
     "execution_count": 14,
     "metadata": {},
     "output_type": "execute_result"
    }
   ],
   "source": [
    "cross_val_score(sgd_clf, train_data, train_target_6, cv=3, scoring=\"accuracy\")"
   ]
  },
  {
   "cell_type": "markdown",
   "metadata": {
    "deletable": true,
    "editable": true
   },
   "source": [
    "There are other methods to evaluate (the predictions of) the model, but we will explore them later."
   ]
  },
  {
   "cell_type": "markdown",
   "metadata": {
    "deletable": true,
    "editable": true
   },
   "source": [
    "### Multi-class categorical target variables (integers)"
   ]
  },
  {
   "cell_type": "code",
   "execution_count": 20,
   "metadata": {
    "collapsed": true,
    "deletable": true,
    "editable": true
   },
   "outputs": [],
   "source": [
    "sgd_clf = SGDClassifier()"
   ]
  },
  {
   "cell_type": "code",
   "execution_count": 21,
   "metadata": {
    "collapsed": false,
    "deletable": true,
    "editable": true
   },
   "outputs": [],
   "source": [
    "test_predict = sgd_clf.fit(train_data, train_target).predict(test_data)"
   ]
  },
  {
   "cell_type": "code",
   "execution_count": 22,
   "metadata": {
    "collapsed": false,
    "deletable": true,
    "editable": true
   },
   "outputs": [
    {
     "data": {
      "text/plain": [
       "array([[1309,    0,    9,    3,    2,    8,    4,    3,    7,    4],\n",
       "       [   0, 1557,    8,    2,    1,    7,    0,    3,    1,    2],\n",
       "       [  14,   28, 1207,   55,   14,   10,   12,   28,   26,    6],\n",
       "       [  11,   10,   28, 1266,    4,   58,    4,   31,   11,   11],\n",
       "       [   2,    4,   10,    1, 1244,    2,    4,    4,    4,   53],\n",
       "       [  16,   22,   16,   48,   42, 1054,   21,    6,   35,   26],\n",
       "       [  16,    5,   41,    2,   13,   18, 1305,    4,    3,    0],\n",
       "       [   6,    6,    9,    5,   16,    5,    2, 1341,    2,   84],\n",
       "       [  20,  106,   25,   78,   87,   79,   21,   33,  849,   93],\n",
       "       [   7,    9,    9,   27,  104,   19,    0,   97,    4, 1072]])"
      ]
     },
     "execution_count": 22,
     "metadata": {},
     "output_type": "execute_result"
    }
   ],
   "source": [
    "confusion_matrix(test_target, test_predict)"
   ]
  },
  {
   "cell_type": "markdown",
   "metadata": {
    "deletable": true,
    "editable": true
   },
   "source": [
    "Use `cross_val_predict` with the `SGDClassifier` to create predictions for every row in the dataset `train_data`. "
   ]
  },
  {
   "cell_type": "code",
   "execution_count": 23,
   "metadata": {
    "collapsed": false,
    "deletable": true,
    "editable": true
   },
   "outputs": [
    {
     "data": {
      "text/plain": [
       "((56000,), (56000,))"
      ]
     },
     "execution_count": 23,
     "metadata": {},
     "output_type": "execute_result"
    }
   ],
   "source": [
    "train_predict = cross_val_predict(sgd_clf, train_data, train_target, cv=3)\n",
    "train_target.shape, train_predict.shape"
   ]
  },
  {
   "cell_type": "markdown",
   "metadata": {
    "deletable": true,
    "editable": true
   },
   "source": [
    "Use the `confusion_matrix` function to compare the target values and the predictions."
   ]
  },
  {
   "cell_type": "code",
   "execution_count": 24,
   "metadata": {
    "collapsed": false,
    "deletable": true,
    "editable": true
   },
   "outputs": [
    {
     "data": {
      "text/plain": [
       "array([[5296,    2,   46,   23,   44,   28,   28,    7,   76,    4],\n",
       "       [   1, 6080,   77,   13,    9,   40,    6,   15,   42,   13],\n",
       "       [  35,   48, 4947,   72,  123,   15,   62,   73,  197,   18],\n",
       "       [  33,   39,  311, 4728,   31,  205,   15,   61,  219,   65],\n",
       "       [   9,   31,   31,   16, 5187,    5,   26,   30,   44,  117],\n",
       "       [  74,   45,   97,  341,  215, 3630,   85,   34,  439,   67],\n",
       "       [  42,   44,  184,    7,  146,   58, 4918,   16,   53,    1],\n",
       "       [  32,   35,  128,   21,  115,   20,    2, 5221,   55,  188],\n",
       "       [  36,  204,  564,  171,  214,  459,   25,   39, 3665,   57],\n",
       "       [  35,   37,   62,   99,  658,   61,    1,  489,   80, 4088]])"
      ]
     },
     "execution_count": 24,
     "metadata": {},
     "output_type": "execute_result"
    }
   ],
   "source": [
    "confusion_matrix(train_target, train_predict)"
   ]
  },
  {
   "cell_type": "markdown",
   "metadata": {
    "deletable": true,
    "editable": true
   },
   "source": [
    "The `cross_val_score` function is used to score each of the three (3) validation sets."
   ]
  },
  {
   "cell_type": "code",
   "execution_count": 25,
   "metadata": {
    "collapsed": false,
    "deletable": true,
    "editable": true
   },
   "outputs": [
    {
     "data": {
      "text/plain": [
       "array([ 0.87059454,  0.85192328,  0.87291042])"
      ]
     },
     "execution_count": 25,
     "metadata": {},
     "output_type": "execute_result"
    }
   ],
   "source": [
    "cross_val_score(sgd_clf, train_data, train_target, cv=3, scoring=\"accuracy\")"
   ]
  },
  {
   "cell_type": "markdown",
   "metadata": {
    "deletable": true,
    "editable": true
   },
   "source": [
    "### Multi-class categorical target variables (1hot)\n",
    "\n",
    "Problems: 1hot vectors __ARE NOT__ multi-class. Maybe that is why I get an error."
   ]
  },
  {
   "cell_type": "code",
   "execution_count": null,
   "metadata": {
    "collapsed": true,
    "deletable": true,
    "editable": true
   },
   "outputs": [],
   "source": [
    "sgd_clf = SGDClassifier()"
   ]
  },
  {
   "cell_type": "markdown",
   "metadata": {
    "deletable": true,
    "editable": true
   },
   "source": [
    "Use the default classifier (created above) to create predictions (with `cross_val_predict`) for every row in the dataset `train_data`. "
   ]
  },
  {
   "cell_type": "code",
   "execution_count": null,
   "metadata": {
    "collapsed": false,
    "deletable": true,
    "editable": true
   },
   "outputs": [],
   "source": [
    "clf = LogisticRegression() #SGDClassifier(loss='log')\n",
    "train_predict = OneVsRestClassifier(clf).fit(train_data,\n",
    "                                                 train_target)"
   ]
  },
  {
   "cell_type": "code",
   "execution_count": null,
   "metadata": {
    "collapsed": false,
    "deletable": true,
    "editable": true
   },
   "outputs": [],
   "source": [
    "train_predict.predict_proba(test_data)"
   ]
  },
  {
   "cell_type": "code",
   "execution_count": null,
   "metadata": {
    "collapsed": true,
    "deletable": true,
    "editable": true
   },
   "outputs": [],
   "source": [
    "sgd_clf = SGDClassifier(loss='log')\n",
    "train_proba = OneVsOneClassifier(sgd_clf).fit(train_data,\n",
    "                                              train_target_1hot).predict(train_data)\n",
    "train_target_1hot.shape, train_predict.shape"
   ]
  },
  {
   "cell_type": "markdown",
   "metadata": {
    "deletable": true,
    "editable": true
   },
   "source": [
    "Use the `confusion_matrix` function to compare the target values and the predictions."
   ]
  },
  {
   "cell_type": "code",
   "execution_count": null,
   "metadata": {
    "collapsed": false,
    "deletable": true,
    "editable": true
   },
   "outputs": [],
   "source": [
    "confusion_matrix(train_target, train_predict)"
   ]
  },
  {
   "cell_type": "markdown",
   "metadata": {
    "deletable": true,
    "editable": true
   },
   "source": [
    "The `cross_val_score` function is used to score each of the three (3) validation sets."
   ]
  },
  {
   "cell_type": "code",
   "execution_count": null,
   "metadata": {
    "collapsed": false,
    "deletable": true,
    "editable": true
   },
   "outputs": [],
   "source": [
    "cross_val_score(sgd_clf, train_data, train_target, cv=3, scoring=\"accuracy\")"
   ]
  },
  {
   "cell_type": "code",
   "execution_count": 26,
   "metadata": {
    "collapsed": false,
    "deletable": true,
    "editable": true
   },
   "outputs": [
    {
     "ename": "ImportError",
     "evalue": "No module named 'nose'",
     "output_type": "error",
     "traceback": [
      "\u001b[0;31m---------------------------------------------------------------------------\u001b[0m",
      "\u001b[0;31mImportError\u001b[0m                               Traceback (most recent call last)",
      "\u001b[0;32m<ipython-input-26-5725f92ad502>\u001b[0m in \u001b[0;36m<module>\u001b[0;34m()\u001b[0m\n\u001b[0;32m----> 1\u001b[0;31m \u001b[0;32mfrom\u001b[0m \u001b[0msklearn\u001b[0m\u001b[0;34m.\u001b[0m\u001b[0mutils\u001b[0m\u001b[0;34m.\u001b[0m\u001b[0mtesting\u001b[0m \u001b[0;32mimport\u001b[0m \u001b[0mall_estimators\u001b[0m\u001b[0;34m\u001b[0m\u001b[0m\n\u001b[0m\u001b[1;32m      2\u001b[0m \u001b[0;34m\u001b[0m\u001b[0m\n\u001b[1;32m      3\u001b[0m \u001b[0mestimators\u001b[0m \u001b[0;34m=\u001b[0m \u001b[0mall_estimators\u001b[0m\u001b[0;34m(\u001b[0m\u001b[0;34m)\u001b[0m\u001b[0;34m\u001b[0m\u001b[0m\n\u001b[1;32m      4\u001b[0m \u001b[0;34m\u001b[0m\u001b[0m\n\u001b[1;32m      5\u001b[0m \u001b[0;32mfor\u001b[0m \u001b[0mname\u001b[0m\u001b[0;34m,\u001b[0m \u001b[0mclass_\u001b[0m \u001b[0;32min\u001b[0m \u001b[0mestimators\u001b[0m\u001b[0;34m:\u001b[0m\u001b[0;34m\u001b[0m\u001b[0m\n",
      "\u001b[0;32m/opt/conda/lib/python3.5/site-packages/sklearn/utils/testing.py\u001b[0m in \u001b[0;36m<module>\u001b[0;34m()\u001b[0m\n\u001b[1;32m     49\u001b[0m \u001b[0;34m\u001b[0m\u001b[0m\n\u001b[1;32m     50\u001b[0m \u001b[0;31m# Conveniently import all assertions in one place.\u001b[0m\u001b[0;34m\u001b[0m\u001b[0;34m\u001b[0m\u001b[0m\n\u001b[0;32m---> 51\u001b[0;31m \u001b[0;32mfrom\u001b[0m \u001b[0mnose\u001b[0m\u001b[0;34m.\u001b[0m\u001b[0mtools\u001b[0m \u001b[0;32mimport\u001b[0m \u001b[0massert_equal\u001b[0m\u001b[0;34m\u001b[0m\u001b[0m\n\u001b[0m\u001b[1;32m     52\u001b[0m \u001b[0;32mfrom\u001b[0m \u001b[0mnose\u001b[0m\u001b[0;34m.\u001b[0m\u001b[0mtools\u001b[0m \u001b[0;32mimport\u001b[0m \u001b[0massert_not_equal\u001b[0m\u001b[0;34m\u001b[0m\u001b[0m\n\u001b[1;32m     53\u001b[0m \u001b[0;32mfrom\u001b[0m \u001b[0mnose\u001b[0m\u001b[0;34m.\u001b[0m\u001b[0mtools\u001b[0m \u001b[0;32mimport\u001b[0m \u001b[0massert_true\u001b[0m\u001b[0;34m\u001b[0m\u001b[0m\n",
      "\u001b[0;31mImportError\u001b[0m: No module named 'nose'"
     ]
    }
   ],
   "source": [
    "from sklearn.utils.testing import all_estimators\n",
    "\n",
    "estimators = all_estimators()\n",
    "\n",
    "for name, class_ in estimators:\n",
    "    if hasattr(class_, 'predict_proba'):\n",
    "        print(name)"
   ]
  },
  {
   "cell_type": "markdown",
   "metadata": {
    "deletable": true,
    "editable": true
   },
   "source": [
    "Logistic regression (by parameter `loss='log'`)"
   ]
  },
  {
   "cell_type": "code",
   "execution_count": null,
   "metadata": {
    "collapsed": false,
    "deletable": true,
    "editable": true
   },
   "outputs": [],
   "source": [
    "sgd_clf = SGDClassifier(loss='log', random_state=42)\n",
    "sgd_clf.fit(train_data, train_target)"
   ]
  },
  {
   "cell_type": "code",
   "execution_count": null,
   "metadata": {
    "collapsed": false,
    "deletable": true,
    "editable": true
   },
   "outputs": [],
   "source": [
    "sgd_clf.predict_proba(train_data)"
   ]
  },
  {
   "cell_type": "code",
   "execution_count": null,
   "metadata": {
    "collapsed": false,
    "deletable": true,
    "editable": true
   },
   "outputs": [],
   "source": [
    "log_reg = LogisticRegression()\n",
    "log_reg.fit(train_data, train_y)"
   ]
  },
  {
   "cell_type": "code",
   "execution_count": null,
   "metadata": {
    "collapsed": true,
    "deletable": true,
    "editable": true
   },
   "outputs": [],
   "source": [
    "test_p = log_reg.predict(test_data)"
   ]
  },
  {
   "cell_type": "code",
   "execution_count": null,
   "metadata": {
    "collapsed": false,
    "deletable": true,
    "editable": true
   },
   "outputs": [],
   "source": [
    "test_p.shape, test_y.shape, test_data.shape"
   ]
  },
  {
   "cell_type": "code",
   "execution_count": null,
   "metadata": {
    "collapsed": false,
    "deletable": true,
    "editable": true
   },
   "outputs": [],
   "source": [
    "plt.imshow(test_data[11000].reshape(28, 28), \n",
    "           cmap = matplotlib.cm.binary,\n",
    "           interpolation=\"nearest\")"
   ]
  },
  {
   "cell_type": "markdown",
   "metadata": {
    "deletable": true,
    "editable": true
   },
   "source": [
    "### Classifying multi-class variables\n",
    "\n",
    "The `SGDClassifier` can take multi-class categorical variables as integers, and will treat them correctly (as categorical variables.)"
   ]
  },
  {
   "cell_type": "code",
   "execution_count": null,
   "metadata": {
    "collapsed": true,
    "deletable": true,
    "editable": true
   },
   "outputs": [],
   "source": [
    "sgd_clf = SGDClassifier()\n",
    "log_reg = LogisticRegression()"
   ]
  },
  {
   "cell_type": "code",
   "execution_count": null,
   "metadata": {
    "collapsed": false,
    "deletable": true,
    "editable": true
   },
   "outputs": [],
   "source": [
    "train_p = cross_val_predict(sgd_clf, _data, train_y, cv=3)\n",
    "train_y.shape, train_p.shape"
   ]
  },
  {
   "cell_type": "code",
   "execution_count": null,
   "metadata": {
    "collapsed": false,
    "deletable": true,
    "editable": true
   },
   "outputs": [],
   "source": [
    "train_data.shape, train_y.shape"
   ]
  },
  {
   "cell_type": "code",
   "execution_count": null,
   "metadata": {
    "collapsed": false,
    "deletable": true,
    "editable": true
   },
   "outputs": [],
   "source": [
    "train_p = cross_val_predict(sgd_clf, train_data, _y, cv=3)\n",
    "train_y.shape, train_p.shape"
   ]
  },
  {
   "cell_type": "code",
   "execution_count": null,
   "metadata": {
    "collapsed": false,
    "deletable": true,
    "editable": true
   },
   "outputs": [],
   "source": [
    "train_p"
   ]
  },
  {
   "cell_type": "code",
   "execution_count": null,
   "metadata": {
    "collapsed": false,
    "deletable": true,
    "editable": true
   },
   "outputs": [],
   "source": [
    "train_p = cross_val_predict(log_reg, train_data, train_y, cv=3,  \n",
    "                            method='predict_proba')\n",
    "train_y.shape, train_p.shape"
   ]
  },
  {
   "cell_type": "code",
   "execution_count": null,
   "metadata": {
    "collapsed": false,
    "deletable": true,
    "editable": true
   },
   "outputs": [],
   "source": [
    "cm_y_p = confusion_matrix(train_y, train_p)\n",
    "cm_y_p"
   ]
  },
  {
   "cell_type": "code",
   "execution_count": null,
   "metadata": {
    "collapsed": true,
    "deletable": true,
    "editable": true
   },
   "outputs": [],
   "source": []
  }
 ],
 "metadata": {
  "kernelspec": {
   "display_name": "Python 3",
   "language": "python",
   "name": "python3"
  },
  "language_info": {
   "codemirror_mode": {
    "name": "ipython",
    "version": 3
   },
   "file_extension": ".py",
   "mimetype": "text/x-python",
   "name": "python",
   "nbconvert_exporter": "python",
   "pygments_lexer": "ipython3",
   "version": "3.5.2"
  }
 },
 "nbformat": 4,
 "nbformat_minor": 2
}
